{
 "cells": [
  {
   "cell_type": "code",
   "execution_count": 1,
   "id": "58df23a4-4df2-4f3c-8c3c-8823d0f0f106",
   "metadata": {},
   "outputs": [
    {
     "name": "stdout",
     "output_type": "stream",
     "text": [
      "hello\n"
     ]
    }
   ],
   "source": [
    "print(\"hello\")\n"
   ]
  },
  {
   "cell_type": "code",
   "execution_count": 1,
   "id": "8fc67e33-5d4d-41a5-86c4-d7919482a33b",
   "metadata": {},
   "outputs": [
    {
     "name": "stdout",
     "output_type": "stream",
     "text": [
      "testing new branch\n"
     ]
    }
   ],
   "source": [
    "print(\"testing new branch\")"
   ]
  },
  {
   "cell_type": "code",
   "execution_count": null,
   "id": "0021f1c2-255a-4aa4-9193-02b10cec1211",
   "metadata": {},
   "outputs": [],
   "source": []
  }
 ],
 "metadata": {
  "kernelspec": {
   "display_name": "Python 3 (ipykernel)",
   "language": "python",
   "name": "python3"
  },
  "language_info": {
   "codemirror_mode": {
    "name": "ipython",
    "version": 3
   },
   "file_extension": ".py",
   "mimetype": "text/x-python",
   "name": "python",
   "nbconvert_exporter": "python",
   "pygments_lexer": "ipython3",
   "version": "3.11.4"
  }
 },
 "nbformat": 4,
 "nbformat_minor": 5
}
